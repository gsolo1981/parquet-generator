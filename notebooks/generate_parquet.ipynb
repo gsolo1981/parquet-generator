{
 "cells": [
  {
   "cell_type": "code",
   "execution_count": 1,
   "id": "fe95f60c",
   "metadata": {},
   "outputs": [
    {
     "name": "stdout",
     "output_type": "stream",
     "text": [
      "Requirement already satisfied: pandas in c:\\users\\gsolomita\\appdata\\local\\programs\\python\\python312\\lib\\site-packages (2.2.3)\n",
      "Requirement already satisfied: sqlalchemy in c:\\users\\gsolomita\\appdata\\local\\programs\\python\\python312\\lib\\site-packages (2.0.38)\n",
      "Collecting psycopg2-binary\n",
      "  Downloading psycopg2_binary-2.9.10-cp312-cp312-win_amd64.whl.metadata (5.0 kB)\n",
      "Collecting pyarrow\n",
      "  Downloading pyarrow-21.0.0-cp312-cp312-win_amd64.whl.metadata (3.4 kB)\n",
      "Requirement already satisfied: python-dotenv in c:\\users\\gsolomita\\appdata\\local\\programs\\python\\python312\\lib\\site-packages (1.1.0)\n",
      "Requirement already satisfied: numpy>=1.26.0 in c:\\users\\gsolomita\\appdata\\local\\programs\\python\\python312\\lib\\site-packages (from pandas) (2.2.3)\n",
      "Requirement already satisfied: python-dateutil>=2.8.2 in c:\\users\\gsolomita\\appdata\\roaming\\python\\python312\\site-packages (from pandas) (2.9.0.post0)\n",
      "Requirement already satisfied: pytz>=2020.1 in c:\\users\\gsolomita\\appdata\\local\\programs\\python\\python312\\lib\\site-packages (from pandas) (2025.1)\n",
      "Requirement already satisfied: tzdata>=2022.7 in c:\\users\\gsolomita\\appdata\\local\\programs\\python\\python312\\lib\\site-packages (from pandas) (2025.1)\n",
      "Requirement already satisfied: greenlet!=0.4.17 in c:\\users\\gsolomita\\appdata\\local\\programs\\python\\python312\\lib\\site-packages (from sqlalchemy) (3.1.1)\n",
      "Requirement already satisfied: typing-extensions>=4.6.0 in c:\\users\\gsolomita\\appdata\\local\\programs\\python\\python312\\lib\\site-packages (from sqlalchemy) (4.12.2)\n",
      "Requirement already satisfied: six>=1.5 in c:\\users\\gsolomita\\appdata\\roaming\\python\\python312\\site-packages (from python-dateutil>=2.8.2->pandas) (1.16.0)\n",
      "Downloading psycopg2_binary-2.9.10-cp312-cp312-win_amd64.whl (1.2 MB)\n",
      "   ---------------------------------------- 0.0/1.2 MB ? eta -:--:--\n",
      "   ---------------------------------------- 1.2/1.2 MB 11.6 MB/s eta 0:00:00\n",
      "Downloading pyarrow-21.0.0-cp312-cp312-win_amd64.whl (26.2 MB)\n",
      "   ---------------------------------------- 0.0/26.2 MB ? eta -:--:--\n",
      "   ----------- ---------------------------- 7.3/26.2 MB 34.7 MB/s eta 0:00:01\n",
      "   ---------------------- ----------------- 14.4/26.2 MB 33.5 MB/s eta 0:00:01\n",
      "   --------------------------------- ------ 21.8/26.2 MB 33.5 MB/s eta 0:00:01\n",
      "   ---------------------------------------- 26.2/26.2 MB 31.3 MB/s eta 0:00:00\n",
      "Installing collected packages: pyarrow, psycopg2-binary\n",
      "Successfully installed psycopg2-binary-2.9.10 pyarrow-21.0.0\n",
      "Note: you may need to restart the kernel to use updated packages.\n"
     ]
    },
    {
     "name": "stderr",
     "output_type": "stream",
     "text": [
      "\n",
      "[notice] A new release of pip is available: 24.2 -> 25.1.1\n",
      "[notice] To update, run: python.exe -m pip install --upgrade pip\n"
     ]
    }
   ],
   "source": [
    "#pip install pandas sqlalchemy psycopg2-binary pyarrow python-dotenv"
   ]
  },
  {
   "cell_type": "code",
   "execution_count": null,
   "id": "fcec17d2",
   "metadata": {},
   "outputs": [],
   "source": [
    "import pandas as pd\n",
    "import os\n",
    "from datetime import datetime\n",
    "from dotenv import load_dotenv\n",
    "from sqlalchemy import create_engine\n",
    "from sqlalchemy.exc import SQLAlchemyError\n"
   ]
  },
  {
   "cell_type": "code",
   "execution_count": 4,
   "id": "5320872d",
   "metadata": {},
   "outputs": [
    {
     "name": "stdout",
     "output_type": "stream",
     "text": [
      "Configuración cargada:\n",
      "Host: strix-consumer-prod-db.cluster-c8qjobbyzxkf.us-east-1.rds.amazonaws.com\n",
      "Database: analytics\n",
      "User: strixbox\n"
     ]
    }
   ],
   "source": [
    "# Cargar variables de entorno\n",
    "load_dotenv()\n",
    "\n",
    "# Configuración de PostgreSQL (usando las mismas variables que tu código)\n",
    "POSTGRES_CONFIG = {\n",
    "    'dbname': os.getenv('CONSUMER_DB_NAME'),\n",
    "    'host': os.getenv('CONSUMER_DB_HOST'),\n",
    "    'port': os.getenv('CONSUMER_DB_PORT', '5432'),\n",
    "    'user': os.getenv('CONSUMER_DB_USER'),\n",
    "    'password': os.getenv('CONSUMER_DB_PASSWORD')\n",
    "}\n",
    "\n",
    "print(\"Configuración cargada:\")\n",
    "print(f\"Host: {POSTGRES_CONFIG['host']}\")\n",
    "print(f\"Database: {POSTGRES_CONFIG['dbname']}\")\n",
    "print(f\"User: {POSTGRES_CONFIG['user']}\")"
   ]
  },
  {
   "cell_type": "code",
   "execution_count": 5,
   "id": "8e57a45d",
   "metadata": {},
   "outputs": [],
   "source": [
    "# Función para conectar a PostgreSQL\n",
    "def create_postgres_connection():\n",
    "    try:\n",
    "        engine = create_engine(\n",
    "            f\"postgresql+psycopg2://{POSTGRES_CONFIG['user']}:{POSTGRES_CONFIG['password']}@\"\n",
    "            f\"{POSTGRES_CONFIG['host']}:{POSTGRES_CONFIG['port']}/{POSTGRES_CONFIG['dbname']}\"\n",
    "        )\n",
    "        print(\"Conexión a PostgreSQL establecida.\")\n",
    "        return engine\n",
    "    except SQLAlchemyError as e:\n",
    "        print(f\"Error en conexión a PostgreSQL: {e}\")\n",
    "        return None\n"
   ]
  },
  {
   "cell_type": "code",
   "execution_count": 6,
   "id": "52b96582",
   "metadata": {},
   "outputs": [
    {
     "name": "stdout",
     "output_type": "stream",
     "text": [
      "Conexión a PostgreSQL establecida.\n",
      "Ejecutando consulta...\n",
      "✅ Datos extraídos: 351060 registros\n",
      "Columnas: ['id', 'account_id', 'make', 'year', 'color', 'label', 'model', 'domain', 'subtype', 'engine_number', 'chassis_number', 'mileage', 'latitude', 'longitude', 'things', 'location_datetime', 'created_datetime']\n",
      "\n",
      "Primeras 5 filas:\n",
      "                                                  id  \\\n",
      "0  mrn:thing:vehicle:58b0101b-ebf5-408c-944d-f7f5...   \n",
      "1  mrn:thing:vehicle:21ca7177-b754-44e2-934f-a74c...   \n",
      "2  mrn:thing:vehicle:d13640a5-6aba-4f7d-aa6b-4af2...   \n",
      "3  mrn:thing:vehicle:c5f0c0d0-9cef-44de-92fd-c5aa...   \n",
      "4  mrn:thing:vehicle:b4fce3d8-3dbd-468c-a4ca-62dc...   \n",
      "\n",
      "                                         account_id        make    year  \\\n",
      "0  mrn:account:af34f0d1-197f-42c7-9011-d662c7663aef  VOLKSWAGEN  2013.0   \n",
      "1  mrn:account:dd3364de-e3af-477a-a311-a5230c74972e     PEUGEOT  2018.0   \n",
      "2  mrn:account:5fae2f6a-a811-4bc6-a0f0-274da8acc506           X  1234.0   \n",
      "3  mrn:account:e3ea015c-c64d-4c96-8a4c-1e40baf9e1cd        FIAT  2013.0   \n",
      "4  mrn:account:a2b56987-df5b-4990-be73-671c90428ee7      TOYOTA  2014.0   \n",
      "\n",
      "      color      label                          model   domain subtype  \\\n",
      "0  SIN DATO     NAG582  FOX 1.6 3 P. COMFORTLINE L/10   NAG582     car   \n",
      "1      GRIS  Mi Auto 1                        PARTNER  AC652AM     car   \n",
      "2         X  Mi Auto 1                              X        X     car   \n",
      "3  SIN DATO     NJH096          FIORINO FURGON   FIRE   NJH096     car   \n",
      "4      GRIS     GPPL49                          YARIS   GPPL49     car   \n",
      "\n",
      "     engine_number     chassis_number   mileage   latitude  longitude  \\\n",
      "0        CFZ162929   9BWAB45XE4025930   40393.0 -34.584510 -58.572373   \n",
      "1    10DG080023334  8ADGJNFPAJG533650       1.0 -34.859269 -58.182308   \n",
      "2                X                  X       1.0 -34.513782 -58.518195   \n",
      "3  178E80111457304  9BD25521AE8965126  174709.0 -34.660541 -58.617003   \n",
      "4       INZZ012152  MR2BT9F35E1121283    3528.0 -33.054696 -71.401814   \n",
      "\n",
      "                                    things   location_datetime  \\\n",
      "0    mrn:thing:gps:quec001-865083034049296 2024-09-18 05:34:49   \n",
      "1  mrn:thing:gps:x3tech001-359510085258726 2024-09-18 01:08:01   \n",
      "2    mrn:thing:gps:quec001-111222333444555 2024-04-25 05:00:00   \n",
      "3                                          2024-05-29 20:18:19   \n",
      "4    mrn:thing:gps:quec001-868574041908257 2024-02-05 21:17:59   \n",
      "\n",
      "         created_datetime  \n",
      "0 2021-12-01 17:49:42.069  \n",
      "1 2021-09-16 14:49:02.032  \n",
      "2 2024-04-18 15:55:25.049  \n",
      "3 2023-11-23 21:22:23.165  \n",
      "4 2023-05-18 20:33:55.065  \n"
     ]
    }
   ],
   "source": [
    "# Query para extraer datos de la tabla vehicle\n",
    "VEHICLE_QUERY = \"\"\"\n",
    "SELECT \n",
    "    id,\n",
    "    account_id,\n",
    "    make,\n",
    "    year,\n",
    "    color,\n",
    "    label,\n",
    "    model,\n",
    "    domain,\n",
    "    subtype,\n",
    "    engine_number,\n",
    "    chassis_number,\n",
    "    mileage,\n",
    "    lat as latitude,\n",
    "    long as longitude,\n",
    "    things,\n",
    "    location_datetime,\n",
    "    created_datetime\n",
    "FROM strix.vehicle\n",
    "\"\"\"\n",
    "\n",
    "# %%\n",
    "# Conectar y extraer datos\n",
    "engine = create_postgres_connection()\n",
    "\n",
    "if engine:\n",
    "    print(\"Ejecutando consulta...\")\n",
    "    df = pd.read_sql(VEHICLE_QUERY, engine)\n",
    "    print(f\"✅ Datos extraídos: {len(df)} registros\")\n",
    "    print(f\"Columnas: {list(df.columns)}\")\n",
    "    \n",
    "    # Mostrar primeras filas\n",
    "    print(\"\\nPrimeras 5 filas:\")\n",
    "    print(df.head())\n",
    "else:\n",
    "    print(\"No se pudo establecer conexión\")\n"
   ]
  },
  {
   "cell_type": "code",
   "execution_count": 6,
   "id": "2eb7c03c",
   "metadata": {},
   "outputs": [
    {
     "name": "stdout",
     "output_type": "stream",
     "text": [
      "Generando archivo: vehicles_20250725_151356.parquet\n"
     ]
    }
   ],
   "source": [
    "# Generar nombre de archivo con timestamp\n",
    "timestamp = datetime.now().strftime(\"%Y%m%d_%H%M%S\")\n",
    "filename = f\"vehicles_{timestamp}.parquet\"\n",
    "local_path = filename  # Guardar en directorio actual\n",
    "\n",
    "print(f\"Generando archivo: {filename}\")"
   ]
  },
  {
   "cell_type": "code",
   "execution_count": 8,
   "id": "557d2344",
   "metadata": {},
   "outputs": [
    {
     "name": "stdout",
     "output_type": "stream",
     "text": [
      "❌ Error guardando archivo: name 'df' is not defined\n"
     ]
    }
   ],
   "source": [
    "# Guardar como parquet\n",
    "try:\n",
    "    df.to_parquet(local_path, index=False, engine='pyarrow')\n",
    "    print(f\"✅ Archivo guardado exitosamente: {local_path}\")\n",
    "    print(f\"Tamaño del archivo: {os.path.getsize(local_path) / 1024 / 1024:.2f} MB\")\n",
    "except Exception as e:\n",
    "    print(f\"❌ Error guardando archivo: {e}\")"
   ]
  },
  {
   "cell_type": "code",
   "execution_count": 9,
   "id": "99efcb09",
   "metadata": {},
   "outputs": [
    {
     "name": "stdout",
     "output_type": "stream",
     "text": [
      "El archivo no fue creado correctamente\n"
     ]
    }
   ],
   "source": [
    "# Verificar el archivo generado\n",
    "if os.path.exists(local_path):\n",
    "    # Leer el archivo para verificar\n",
    "    df_check = pd.read_parquet(local_path)\n",
    "    print(f\"\\n📊 Verificación del archivo:\")\n",
    "    print(f\"Registros: {len(df_check)}\")\n",
    "    print(f\"Columnas: {list(df_check.columns)}\")\n",
    "    print(f\"\\nTipos de datos:\")\n",
    "    print(df_check.dtypes)\n",
    "    \n",
    "    print(f\"\\n📁 Archivo final: {os.path.abspath(local_path)}\")\n",
    "else:\n",
    "    print(\"El archivo no fue creado correctamente\")\n"
   ]
  },
  {
   "cell_type": "code",
   "execution_count": 10,
   "id": "e38e20cf",
   "metadata": {},
   "outputs": [
    {
     "name": "stdout",
     "output_type": "stream",
     "text": [
      "\n",
      "==================================================\n",
      "DATASET INFORMACIÓN:\n",
      "==================================================\n",
      "Dataset: vehicles\n",
      "Path: c:\\code\\parket\\notebook\\vehicles_20250725_115305.parquet\n",
      "File Name Format: vehicles_YYYYMMDD_HHMMSS.parquet\n",
      "Schema:\n",
      "------------------------------\n",
      "id                   STRING\n",
      "account_id           STRING\n",
      "make                 STRING\n",
      "year                 FLOAT\n",
      "color                STRING\n",
      "label                STRING\n",
      "model                STRING\n",
      "domain               STRING\n",
      "subtype              STRING\n",
      "engine_number        STRING\n",
      "chassis_number       STRING\n",
      "mileage              FLOAT\n",
      "latitude             FLOAT\n",
      "longitude            FLOAT\n",
      "things               STRING\n",
      "location_datetime    DATETIME\n",
      "created_datetime     DATETIME\n"
     ]
    }
   ],
   "source": [
    "# Información del dataset generado\n",
    "print(\"\\n\" + \"=\"*50)\n",
    "print(\"DATASET INFORMACIÓN:\")\n",
    "print(\"=\"*50)\n",
    "print(f\"Dataset: vehicles\")\n",
    "print(f\"Path: {os.path.abspath(local_path)}\")\n",
    "print(f\"File Name Format: vehicles_YYYYMMDD_HHMMSS.parquet\")\n",
    "print(f\"Schema:\")\n",
    "print(\"-\" * 30)\n",
    "for col in df.columns:\n",
    "    dtype = str(df[col].dtype)\n",
    "    if 'int' in dtype:\n",
    "        print(f\"{col:<20} INTEGER\")\n",
    "    elif 'float' in dtype:\n",
    "        print(f\"{col:<20} FLOAT\")\n",
    "    elif 'datetime' in dtype:\n",
    "        print(f\"{col:<20} DATETIME\")\n",
    "    else:\n",
    "        print(f\"{col:<20} STRING\")"
   ]
  }
 ],
 "metadata": {
  "kernelspec": {
   "display_name": "Python 3 (ipykernel)",
   "language": "python",
   "name": "python3"
  },
  "language_info": {
   "codemirror_mode": {
    "name": "ipython",
    "version": 3
   },
   "file_extension": ".py",
   "mimetype": "text/x-python",
   "name": "python",
   "nbconvert_exporter": "python",
   "pygments_lexer": "ipython3",
   "version": "3.11.13"
  }
 },
 "nbformat": 4,
 "nbformat_minor": 5
}
